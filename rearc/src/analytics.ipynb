{
 "cells": [
  {
   "cell_type": "code",
   "execution_count": null,
   "id": "dca39341-9634-4726-9dea-a0cae11ead2e",
   "metadata": {},
   "outputs": [],
   "source": [
    "\n",
    "from src import read_bls, read_census\n",
    "from datetime import date\n",
    "import pandas as pd"
   ]
  },
  {
   "cell_type": "markdown",
   "id": "46ca07bb-dc68-41e5-8900-55430a437a30",
   "metadata": {},
   "source": [
    "## AWS credentials are assumed to be configured in the environment"
   ]
  },
  {
   "cell_type": "code",
   "execution_count": null,
   "id": "1bf3d0f5-5192-4f76-a127-2be9e349ade0",
   "metadata": {},
   "outputs": [],
   "source": [
    "# Config for S3 bucket and file path\n",
    "S3_BUCKET  = \"rearc-raw-bucket-dev\"\n",
    "BLS_KEY    = \"bls/pr/\"\n",
    "CENSUS_KEY = \"census/\"\n",
    "\n",
    "s3 = boto3.client(\"s3\")"
   ]
  },
  {
   "cell_type": "code",
   "execution_count": null,
   "id": "bbdf1721-3b64-4df7-a1e3-c9ed7c85f98c",
   "metadata": {},
   "outputs": [],
   "source": [
    "# Importing read_ble and read_census function to extract bls and census data\n",
    "census_folder_date = date.today().isoformat()\n",
    "\n",
    "bls_df = read_bls(S3_BUCKET, BLS_KEY, \"pr.data.0.Current\")\n",
    "census_df = read_census(S3_BUCKET, CENSUS_KEY, census_folder_date, \"census.json\")\n",
    "\n",
    "bls_df.head(), census_df.head()"
   ]
  },
  {
   "cell_type": "code",
   "execution_count": null,
   "id": "560f078b-2435-4257-aa3e-e65720c51733",
   "metadata": {},
   "outputs": [],
   "source": [
    "# Generating mean and std for census data\n",
    "census_2013_2018 = census_df[\n",
    "    (census_df[\"year\"] >= 2013) &\n",
    "    (census_df[\"year\"] <= 2018)\n",
    "    ].copy()\n",
    "\n",
    "census_mean = round(float(census_2013_2018[\"population\"].mean()), 2)\n",
    "census_std  = round(float(census_2013_2018[\"population\"].std()), 2)\n",
    "census_stats = pd.DataFrame({\n",
    "    \"metric\": [\"mean_population_2013_2018\", \"std_population_2013_2018\"],\n",
    "    \"value\": [census_mean, census_std]\n",
    "})\n",
    "\n",
    "census_stats.head()"
   ]
  },
  {
   "cell_type": "code",
   "execution_count": null,
   "id": "eb2d43c2-1e2f-4bfd-9017-e795608c7272",
   "metadata": {},
   "outputs": [],
   "source": [
    "# Generating max total value of series for bls\n",
    "bls_grouped = (bls_df\n",
    "                   .groupby([\"series_id\", \"year\"], as_index=False)[\"value\"]\n",
    "                   .sum()\n",
    "                   .rename(columns={\"value\": \"total_value\"})\n",
    "               )\n",
    "\n",
    "bls_best_years = (bls_grouped\n",
    "                      .loc[bls_grouped.groupby(\"series_id\")[\"total_value\"]\n",
    "                      .idxmax()]\n",
    "                      .reset_index(drop=True)\n",
    "                      .sort_values([\"series_id\", \"year\", \"total_value\"], ascending=[True, False, False])\n",
    "                  )\n",
    "\n",
    "best_years.head()"
   ]
  },
  {
   "cell_type": "code",
   "execution_count": null,
   "id": "0576071d-8f33-4e17-854a-4cdcbffb9268",
   "metadata": {},
   "outputs": [],
   "source": [
    "# Join census and bls data\n",
    "bls_6032_q1 = bls_data.loc[\n",
    "                (bls_data[\"series_id\"].str.strip() == \"PRS30006032\") &\n",
    "                (bls_data[\"year\"] == 2018) &\n",
    "                (bls_data[\"period\"].str.strip() == \"Q01\"),\n",
    "                [\"series_id\", \"year\", \"period\", \"value\"]\n",
    "            ]\n",
    "\n",
    "bls_census_merged_df = pd.merge(\n",
    "    census_data,\n",
    "    bls_6032_q1,\n",
    "    left_on=\"year\",\n",
    "    right_on=\"year\",\n",
    "    how=\"inner\"\n",
    ")\n",
    "\n",
    "bls_census_merged_df.head()"
   ]
  }
 ],
 "metadata": {
  "kernelspec": {
   "display_name": "Python 3 (ipykernel)",
   "language": "python",
   "name": "python3"
  },
  "language_info": {
   "codemirror_mode": {
    "name": "ipython",
    "version": 3
   },
   "file_extension": ".py",
   "mimetype": "text/x-python",
   "name": "python",
   "nbconvert_exporter": "python",
   "pygments_lexer": "ipython3",
   "version": "3.13.0"
  }
 },
 "nbformat": 4,
 "nbformat_minor": 5
}
